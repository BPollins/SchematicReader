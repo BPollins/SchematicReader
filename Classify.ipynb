{
 "cells": [
  {
   "cell_type": "markdown",
   "id": "f43ae7a8",
   "metadata": {},
   "source": [
    "# Schematic Reader Project\n",
    "\n",
    "The purpose of this project is to create a program that can tally up the different types of valves found on a given mechanical system drawing.\n",
    "\n",
    "This 'Classify' notebook is to convert the images of the valves created by the 'Reader' notebook into a dataframe and train a model to classify the valves. I will manually input the labels for the training set and then use this to identify and count the valves on an un-seen drawing."
   ]
  },
  {
   "cell_type": "code",
   "execution_count": 3,
   "id": "0ef0c891",
   "metadata": {},
   "outputs": [],
   "source": [
    "import matplotlib.pyplot as plt\n",
    "import numpy as np\n",
    "import pandas as pd\n",
    "from itertools import product\n",
    "from sklearn.svm import SVC\n",
    "from sklearn.model_selection import train_test_split"
   ]
  },
  {
   "cell_type": "code",
   "execution_count": 76,
   "id": "8c99c21f",
   "metadata": {},
   "outputs": [
    {
     "data": {
      "image/png": "[encoded data removed]",
      "text/plain": [
       "<Figure size 640x480 with 1 Axes>"
      ]
     },
     "metadata": {},
     "output_type": "display_data"
    }
   ],
   "source": [
    "# Import the saved images and total from the 'Reader' program and save them with a unique name\n",
    "\n",
    "%store -r total\n",
    "\n",
    "\n",
    "for i in range(1,total):\n",
    "    name = f'break_{i}'\n",
    "    \n",
    "    %store -r {name}\n",
    "\n",
    "\n",
    "plt.imshow(break_3)\n",
    "plt.show()"
   ]
  },
  {
   "cell_type": "code",
   "execution_count": 77,
   "id": "17fea1b3",
   "metadata": {},
   "outputs": [
    {
     "name": "stdout",
     "output_type": "stream",
     "text": [
      "Max Height: 252\n",
      "Max Width: 252\n"
     ]
    }
   ],
   "source": [
    "# Find the dimensions of the largest component\n",
    "\n",
    "heights = []\n",
    "widths = []\n",
    "\n",
    "for x in range(1,total+1):\n",
    "    name = f'break_{x}'\n",
    "    height = globals()[name].shape[0]\n",
    "    width = globals()[name].shape[1]\n",
    "    \n",
    "    heights.append(height)\n",
    "    widths.append(width)\n",
    "\n",
    "max_height = max(heights)\n",
    "max_width = max(widths)\n",
    "\n",
    "print(f'Max Height: {max_height}')\n",
    "print(f'Max Width: {max_width}')"
   ]
  },
  {
   "cell_type": "code",
   "execution_count": 78,
   "id": "a11333fc",
   "metadata": {},
   "outputs": [],
   "source": [
    "# Make all component arrays the same size to avoid NaN's in the DataFrame and center the component \n",
    "## within its array\n",
    "\n",
    "for x in range(1,total+1):\n",
    "    name = f'break_{x}'\n",
    "    \n",
    "    # Calculate difference in height + width compared to the largest component\n",
    "    \n",
    "    height = globals()[name].shape[0]\n",
    "    width = globals()[name].shape[1]\n",
    "\n",
    "    height_delta = max_height - height\n",
    "    width_delta = max_width - width\n",
    "    \n",
    "    # Add the correct amount of white pixels to top, bottom and sides\n",
    "\n",
    "    top = np.full([round(height_delta/2), width, 3], 255)\n",
    "    bottom = np.full([height_delta - round(height_delta/2), width, 3], 255)\n",
    "\n",
    "    globals()[name] = np.concatenate((top, globals()[name], bottom), axis=0)\n",
    "\n",
    "    height = globals()[name].shape[0]\n",
    "\n",
    "    left = np.full([height, round(width_delta/2), 3], 255)\n",
    "    right = np.full([height, width_delta - round(width_delta/2), 3], 255)\n",
    "\n",
    "    globals()[name] = np.concatenate((left, globals()[name], right), axis=1)\n",
    "    \n",
    "    width = globals()[name].shape[1]"
   ]
  },
  {
   "cell_type": "code",
   "execution_count": 79,
   "id": "1c7386af",
   "metadata": {},
   "outputs": [
    {
     "name": "stdout",
     "output_type": "stream",
     "text": [
      "    px_0_0  px_0_1  px_0_2  px_0_3  px_0_4  px_0_5  px_0_6  px_0_7  px_0_8  \\\n",
      "0    255.0   255.0   255.0   255.0   255.0   255.0   255.0   255.0   255.0   \n",
      "0    255.0   255.0   255.0   255.0   255.0   255.0   255.0   255.0   255.0   \n",
      "0    255.0   255.0   255.0   255.0   255.0   255.0   255.0   255.0   255.0   \n",
      "0    255.0   255.0   255.0   255.0   255.0   255.0   255.0   255.0   255.0   \n",
      "0    255.0   255.0   255.0   255.0   255.0   255.0   255.0   255.0   255.0   \n",
      "..     ...     ...     ...     ...     ...     ...     ...     ...     ...   \n",
      "0    255.0   255.0   255.0   255.0   255.0   255.0   255.0   255.0   255.0   \n",
      "0    255.0   255.0   255.0   255.0   255.0   255.0   255.0   255.0   255.0   \n",
      "0    255.0   255.0   255.0   255.0   255.0   255.0   255.0   255.0   255.0   \n",
      "0    255.0   255.0   255.0   255.0   255.0   255.0   255.0   255.0   255.0   \n",
      "0    255.0   255.0   255.0   255.0   255.0   255.0   255.0   255.0   255.0   \n",
      "\n",
      "    px_0_9  ...  px_251_243  px_251_244  px_251_245  px_251_246  px_251_247  \\\n",
      "0    255.0  ...       255.0       255.0       255.0       255.0       255.0   \n",
      "0    255.0  ...       255.0       255.0       255.0       255.0       255.0   \n",
      "0    255.0  ...       255.0       255.0       255.0       255.0       255.0   \n",
      "0    255.0  ...       255.0       255.0       255.0       255.0       255.0   \n",
      "0    255.0  ...       255.0       255.0       255.0       255.0       255.0   \n",
      "..     ...  ...         ...         ...         ...         ...         ...   \n",
      "0    255.0  ...       255.0       255.0       255.0       255.0       255.0   \n",
      "0    255.0  ...       255.0       255.0       255.0       255.0       255.0   \n",
      "0    255.0  ...       255.0       255.0       255.0       255.0       255.0   \n",
      "0    255.0  ...       255.0       255.0       255.0       255.0       255.0   \n",
      "0    255.0  ...       255.0       255.0       255.0       255.0       255.0   \n",
      "\n",
      "    px_251_248  px_251_249  px_251_250  px_251_251  type  \n",
      "0        255.0       255.0       255.0       255.0     1  \n",
      "0        255.0       255.0       255.0       255.0     2  \n",
      "0        255.0       255.0       255.0       255.0     3  \n",
      "0        255.0       255.0       255.0       255.0     4  \n",
      "0        255.0       255.0       255.0       255.0     5  \n",
      "..         ...         ...         ...         ...   ...  \n",
      "0        255.0       255.0       255.0       255.0     2  \n",
      "0        255.0       255.0       255.0       255.0     3  \n",
      "0        255.0       255.0       255.0       255.0     4  \n",
      "0        255.0       255.0       255.0       255.0     5  \n",
      "0        255.0       255.0       255.0       255.0     1  \n",
      "\n",
      "[121 rows x 63505 columns]\n"
     ]
    }
   ],
   "source": [
    "# Now convert to DataFrame and add a column for the (known) valve type\n",
    "\n",
    "df = pd.DataFrame()\n",
    "\n",
    "for x in range(1,total+1):\n",
    "    \n",
    "    name = f'break_{x}'\n",
    "    compressed = np.sum(globals()[name],axis = 2) / 3    # Use the mean of all 3 layers for simplicity\n",
    "    \n",
    "    \n",
    "    df = pd.concat([df,pd.DataFrame(compressed.reshape(1,-1))])\n",
    "    \n",
    "name_list = []\n",
    "\n",
    "for i in range(height):\n",
    "    for j in range(width):\n",
    "        name_list.append(f'px_{i}_{j}')\n",
    "\n",
    "df.columns = name_list\n",
    "\n",
    "df['type'] = [1,2,3,4,5,1,2,3,4,5,1,2,3,4,5,1,2,3,4,5,1,2,3,4,5,1,2,3,4,5,1,2,3,4,5,1,2,3,4,5,1,2,3,4,5,\n",
    "             1,2,3,4,5,1,2,3,4,5,1,2,3,4,5,1,2,3,4,5,1,2,3,4,5,1,2,3,4,5,1,2,3,4,5,1,2,3,4,5,1,2,3,4,5,\n",
    "             1,2,3,4,5,1,2,3,4,5,1,2,3,4,5,1,2,3,4,5,1,2,3,4,5,1,2,3,4,5,1]\n",
    "\n",
    "print(df)"
   ]
  },
  {
   "cell_type": "code",
   "execution_count": 80,
   "id": "60fa6fa7",
   "metadata": {},
   "outputs": [
    {
     "name": "stdout",
     "output_type": "stream",
     "text": [
      "11915\n"
     ]
    }
   ],
   "source": [
    "# Drop the columns representing pixels that are identical for all pictures (all white or all black) to \n",
    "## improve model performance\n",
    "\n",
    "blk = np.all(df == 0, axis = 0)\n",
    "wht = np.all(df == 255, axis = 0)\n",
    "\n",
    "blk_index = blk[blk == True].index\n",
    "wht_index = wht[wht == True].index\n",
    "\n",
    "condensed = df.drop(blk_index, axis = 1)\n",
    "\n",
    "condensed.drop(wht_index, axis = 1, inplace = True)\n",
    "\n",
    "print(len(condensed.columns))"
   ]
  },
  {
   "cell_type": "code",
   "execution_count": 90,
   "id": "e81a29d9",
   "metadata": {},
   "outputs": [
    {
     "name": "stdout",
     "output_type": "stream",
     "text": [
      "Score: 1.0\n",
      "Predicted valve type: 2, Actual valve type: 2\n",
      "Predicted valve type: 1, Actual valve type: 1\n",
      "Predicted valve type: 5, Actual valve type: 5\n",
      "Predicted valve type: 5, Actual valve type: 5\n",
      "Predicted valve type: 5, Actual valve type: 5\n",
      "Predicted valve type: 1, Actual valve type: 1\n",
      "Predicted valve type: 2, Actual valve type: 2\n",
      "Predicted valve type: 5, Actual valve type: 5\n",
      "Predicted valve type: 3, Actual valve type: 3\n",
      "Predicted valve type: 4, Actual valve type: 4\n",
      "Predicted valve type: 4, Actual valve type: 4\n",
      "Predicted valve type: 2, Actual valve type: 2\n",
      "Predicted valve type: 2, Actual valve type: 2\n",
      "Predicted valve type: 1, Actual valve type: 1\n",
      "Predicted valve type: 5, Actual valve type: 5\n",
      "Predicted valve type: 2, Actual valve type: 2\n",
      "Predicted valve type: 4, Actual valve type: 4\n",
      "Predicted valve type: 3, Actual valve type: 3\n",
      "Predicted valve type: 4, Actual valve type: 4\n",
      "Predicted valve type: 4, Actual valve type: 4\n",
      "Predicted valve type: 1, Actual valve type: 1\n",
      "Predicted valve type: 3, Actual valve type: 3\n",
      "Predicted valve type: 2, Actual valve type: 2\n",
      "Predicted valve type: 4, Actual valve type: 4\n",
      "Predicted valve type: 1, Actual valve type: 1\n",
      "Predicted valve type: 5, Actual valve type: 5\n",
      "Predicted valve type: 2, Actual valve type: 2\n",
      "Predicted valve type: 2, Actual valve type: 2\n",
      "Predicted valve type: 4, Actual valve type: 4\n",
      "Predicted valve type: 2, Actual valve type: 2\n",
      "Predicted valve type: 5, Actual valve type: 5\n",
      "Predicted valve type: 5, Actual valve type: 5\n",
      "Predicted valve type: 5, Actual valve type: 5\n",
      "Predicted valve type: 1, Actual valve type: 1\n",
      "Predicted valve type: 4, Actual valve type: 4\n",
      "Predicted valve type: 1, Actual valve type: 1\n",
      "Predicted valve type: 2, Actual valve type: 2\n"
     ]
    }
   ],
   "source": [
    "# Split data and create model\n",
    "\n",
    "X = condensed.drop('type', axis = 1)\n",
    "y = condensed.type\n",
    "\n",
    "X_train, X_val, y_train, y_val = train_test_split(X, y, train_size = 0.7)\n",
    "\n",
    "svc = SVC()\n",
    "\n",
    "svc.fit(X_train, y_train)\n",
    "\n",
    "y_pred = svc.predict(X_val)\n",
    "\n",
    "print(f'Score: {svc.score(X_val, y_val)}')\n",
    "\n",
    "for x in range(len(X_val)):\n",
    "    print(f'Predicted valve type: {y_pred[x]}, Actual valve type: {y_val.iloc[x]}')"
   ]
  },
  {
   "cell_type": "code",
   "execution_count": 91,
   "id": "04b15536",
   "metadata": {},
   "outputs": [
    {
     "name": "stdout",
     "output_type": "stream",
     "text": [
      "Type                   \n",
      "Isolation Valve            26\n",
      "Double Check Valve         24\n",
      "Double Regulating Valve    24\n",
      "Water Meter                24\n",
      "Single Check Valve         23\n",
      "dtype: int64\n"
     ]
    }
   ],
   "source": [
    "# Use the model to tally the valve types (this would normally be for an un-seen schematic)\n",
    "\n",
    "valve_predictions = pd.DataFrame(svc.predict(X), columns = ['Type'])\n",
    "\n",
    "valve_types = {1: 'Isolation Valve',\n",
    "               2: 'Double Regulating Valve',\n",
    "               3: 'Water Meter',\n",
    "               4: 'Single Check Valve',\n",
    "               5: 'Double Check Valve'}\n",
    "\n",
    "\n",
    "valve_predictions.Type = valve_predictions.Type.apply(lambda n: valve_types[n])\n",
    "\n",
    "print(valve_predictions.value_counts())"
   ]
  }
 ],
 "metadata": {
  "kernelspec": {
   "display_name": "Python 3 (ipykernel)",
   "language": "python",
   "name": "python3"
  },
  "language_info": {
   "codemirror_mode": {
    "name": "ipython",
    "version": 3
   },
   "file_extension": ".py",
   "mimetype": "text/x-python",
   "name": "python",
   "nbconvert_exporter": "python",
   "pygments_lexer": "ipython3",
   "version": "3.9.13"
  }
 },
 "nbformat": 4,
 "nbformat_minor": 5
}
