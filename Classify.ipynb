{
 "cells": [
  {
   "cell_type": "markdown",
   "id": "f981e40d",
   "metadata": {},
   "source": [
    "# Schematic Reader Project\n",
    "\n",
    "The purpose of this project is to create a program that can tally up the different types of valves found on a given mechanical system drawing.\n",
    "\n",
    "This 'Classify' notebook is to convert the images of the valves created by the 'Reader' notebook into a dataframe and train a model to classify the valves. I will manually input the labels for the training set and then use this to identify and count the valves on an un-seen drawing.\n",
    "\n",
    "#### Future Work:\n",
    "- Isolating the schematic area from the rest of the drawing\n",
    "- Improved start position finder\n",
    "- Multiple start positions once end of line reached\n",
    "- Identifying and dealing with T's\n",
    "- Work out how to deal with the same valve drawn in different sizes"
   ]
  },
  {
   "cell_type": "markdown",
   "id": "a752c1fb",
   "metadata": {},
   "source": [
    "#### Import packages"
   ]
  },
  {
   "cell_type": "code",
   "execution_count": 17,
   "id": "0ef0c891",
   "metadata": {},
   "outputs": [],
   "source": [
    "import matplotlib.pyplot as plt\n",
    "import numpy as np\n",
    "import pandas as pd\n",
    "from itertools import product\n",
    "from sklearn.svm import SVC\n",
    "from sklearn.linear_model import RidgeClassifier\n",
    "from sklearn.model_selection import train_test_split\n",
    "import pickle5 as pickle"
   ]
  },
  {
   "cell_type": "markdown",
   "id": "dea7f97f",
   "metadata": {},
   "source": [
    "#### Set whether the Classifier program is in training mode or not i.e. whether we are training the model or not "
   ]
  },
  {
   "cell_type": "code",
   "execution_count": 18,
   "id": "8a2a65f8",
   "metadata": {},
   "outputs": [],
   "source": [
    "training_mode = 0"
   ]
  },
  {
   "cell_type": "markdown",
   "id": "c6f8cc84",
   "metadata": {},
   "source": [
    "#### Import the saved images and total from the 'Reader' program and save them with a unique name"
   ]
  },
  {
   "cell_type": "code",
   "execution_count": 19,
   "id": "8c99c21f",
   "metadata": {
    "scrolled": false
   },
   "outputs": [
    {
     "data": {
      "image/png": "[encoded data removed]",
      "text/plain": [
       "<Figure size 640x480 with 1 Axes>"
      ]
     },
     "metadata": {},
     "output_type": "display_data"
    }
   ],
   "source": [
    "%store -r total\n",
    "\n",
    "\n",
    "for i in range(1, total + 1):\n",
    "    name = f'break_{i}'\n",
    "    \n",
    "    %store -r {name}\n",
    "\n",
    "\n",
    "plt.imshow(break_2)\n",
    "plt.show()"
   ]
  },
  {
   "cell_type": "markdown",
   "id": "3e9307b5",
   "metadata": {},
   "source": [
    "#### Find the dimensions of all valves to find the largest component\n",
    "[ONLY EXECUTE WHEN IN TRAINING MODE]"
   ]
  },
  {
   "cell_type": "code",
   "execution_count": 20,
   "id": "17fea1b3",
   "metadata": {},
   "outputs": [],
   "source": [
    "if training_mode == 1:\n",
    "    heights = []\n",
    "    widths = []\n",
    "\n",
    "    for x in range(1, total + 1):\n",
    "        name = f'break_{x}'\n",
    "        height = globals()[name].shape[0]\n",
    "        width = globals()[name].shape[1]\n",
    "\n",
    "        heights.append(height)\n",
    "        widths.append(width)\n",
    "\n",
    "    max_height = max(heights)\n",
    "    max_width = max(widths)\n",
    "\n",
    "    print(f'Max Height: {max_height}')\n",
    "    print(f'Max Width: {max_width}')"
   ]
  },
  {
   "cell_type": "markdown",
   "id": "9b1871dc",
   "metadata": {},
   "source": [
    "#### Make all component arrays the same size to avoid NaN's in the DataFrame and center the component within its array"
   ]
  },
  {
   "cell_type": "code",
   "execution_count": 21,
   "id": "a11333fc",
   "metadata": {},
   "outputs": [],
   "source": [
    "for x in range(1, total + 1):\n",
    "    name = f'break_{x}'\n",
    "    \n",
    "    # Calculate difference in height + width compared to the largest component\n",
    "    \n",
    "    height = globals()[name].shape[0]\n",
    "    width = globals()[name].shape[1]\n",
    "\n",
    "    height_delta = max_height - height\n",
    "    width_delta = max_width - width\n",
    "    \n",
    "    # Add the correct amount of white pixels to top, bottom and sides\n",
    "\n",
    "    top = np.full([round(height_delta/2), width, 3], 255)\n",
    "    bottom = np.full([height_delta - round(height_delta/2), width, 3], 255)\n",
    "\n",
    "    globals()[name] = np.concatenate((top, globals()[name], bottom), axis=0)\n",
    "\n",
    "    height = globals()[name].shape[0]\n",
    "\n",
    "    left = np.full([height, round(width_delta/2), 3], 255)\n",
    "    right = np.full([height, width_delta - round(width_delta/2), 3], 255)\n",
    "\n",
    "    globals()[name] = np.concatenate((left, globals()[name], right), axis=1)\n",
    "    \n",
    "    width = globals()[name].shape[1]"
   ]
  },
  {
   "cell_type": "markdown",
   "id": "100972d8",
   "metadata": {},
   "source": [
    "#### Now convert to DataFrame"
   ]
  },
  {
   "cell_type": "code",
   "execution_count": 22,
   "id": "5c28a877",
   "metadata": {},
   "outputs": [],
   "source": [
    "df = pd.DataFrame()\n",
    "\n",
    "for x in range(1, total + 1):\n",
    "    \n",
    "    name = f'break_{x}'\n",
    "    compressed = np.sum(globals()[name],axis = 2) / 3    # Use the mean of all 3 layers for simplicity\n",
    "    \n",
    "    \n",
    "    df = pd.concat([df,pd.DataFrame(compressed.reshape(1,-1))])\n",
    "    \n",
    "name_list = []\n",
    "\n",
    "for i in range(height):\n",
    "    for j in range(width):\n",
    "        name_list.append(f'px_{i}_{j}')\n",
    "\n",
    "df.columns = name_list\n",
    "\n",
    "X = df.copy()"
   ]
  },
  {
   "cell_type": "markdown",
   "id": "25378379",
   "metadata": {},
   "source": [
    "#### Add column for known valve type\n",
    "[ONLY EXECUTE WHEN IN TRAINING MODE]"
   ]
  },
  {
   "cell_type": "code",
   "execution_count": 23,
   "id": "1c7386af",
   "metadata": {},
   "outputs": [],
   "source": [
    "if training_mode == 1:\n",
    "    df['type'] = [1,2,3,4,5,1,2,3,4,5,1,2,3,4,5,1,2,3,4,5,1,2,3,4,5,1,2,3,4,5,1,2,3,4,5,1,2,3,4,5,1,2,3,4,5,\n",
    "                 1,2,3,4,5,1,2,3,4,5,1,2,3,4,5,1,2,3,4,5,1,2,3,4,5,1,2,3,4,5,1,2,3,4,5,1,2,3,4,5,1,2,3,4,5,\n",
    "                 1,2,3,4,5,1,2,3,4,5,1,2,3,4,5,1,2,3,4,5,1,2,3,4,5,1,2,3,4,5,1]\n",
    "\n",
    "    y = df.type\n",
    "\n",
    "    print(df.head())"
   ]
  },
  {
   "cell_type": "markdown",
   "id": "63f5d488",
   "metadata": {},
   "source": [
    "#### Split data and create, train, save model\n",
    "[ONLY EXECUTE WHEN IN TRAINING MODE]"
   ]
  },
  {
   "cell_type": "code",
   "execution_count": 25,
   "id": "e81a29d9",
   "metadata": {},
   "outputs": [],
   "source": [
    "if training_mode == 1:\n",
    "    X_train, X_val, y_train, y_val = train_test_split(X, y, train_size = 0.7)\n",
    "\n",
    "    # Create + Train model\n",
    "\n",
    "    model = RidgeClassifier()\n",
    "\n",
    "    model.fit(X_train, y_train)\n",
    "\n",
    "    y_pred = model.predict(X_val)\n",
    "\n",
    "    print(f'Score: {model.score(X_val, y_val)}')\n",
    "\n",
    "    # Save model\n",
    "\n",
    "    pickle.dump(model, open('trained_model.sav', 'wb'))"
   ]
  },
  {
   "cell_type": "markdown",
   "id": "2b9ccecd",
   "metadata": {},
   "source": [
    "#### Use the model to tally the valve types"
   ]
  },
  {
   "cell_type": "code",
   "execution_count": 28,
   "id": "bee15fb7",
   "metadata": {},
   "outputs": [
    {
     "name": "stdout",
     "output_type": "stream",
     "text": [
      "Type                   \n",
      "Double Regulating Valve    3\n",
      "Isolation Valve            3\n",
      "Double Check Valve         2\n",
      "Single Check Valve         2\n",
      "Water Meter                2\n",
      "dtype: int64\n"
     ]
    }
   ],
   "source": [
    "if training_mode == 0:\n",
    "    model = pickle.load(open('trained_model.sav', 'rb'))\n",
    "\n",
    "valve_predictions = pd.DataFrame(model.predict(X), columns = ['Type'])\n",
    "\n",
    "valve_types = {1: 'Isolation Valve',\n",
    "               2: 'Double Regulating Valve',\n",
    "               3: 'Water Meter',\n",
    "               4: 'Single Check Valve',\n",
    "               5: 'Double Check Valve'}\n",
    "\n",
    "\n",
    "valve_predictions.Type = valve_predictions.Type.apply(lambda n: valve_types[n])\n",
    "\n",
    "print(valve_predictions.value_counts())"
   ]
  }
 ],
 "metadata": {
  "kernelspec": {
   "display_name": "Python 3 (ipykernel)",
   "language": "python",
   "name": "python3"
  },
  "language_info": {
   "codemirror_mode": {
    "name": "ipython",
    "version": 3
   },
   "file_extension": ".py",
   "mimetype": "text/x-python",
   "name": "python",
   "nbconvert_exporter": "python",
   "pygments_lexer": "ipython3",
   "version": "3.9.13"
  }
 },
 "nbformat": 4,
 "nbformat_minor": 5
}
